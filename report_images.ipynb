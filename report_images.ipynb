{
 "cells": [
  {
   "cell_type": "markdown",
   "id": "dbf94ec3",
   "metadata": {},
   "source": [
    "Libraries"
   ]
  },
  {
   "cell_type": "code",
   "execution_count": 1,
   "id": "60c630d6",
   "metadata": {},
   "outputs": [],
   "source": [
    "import os\n",
    "import numpy as np\n",
    "from tqdm import tqdm\n",
    "import os\n",
    "from scripts.my_toolbox import *"
   ]
  },
  {
   "cell_type": "markdown",
   "id": "86510569",
   "metadata": {},
   "source": [
    "setup"
   ]
  },
  {
   "cell_type": "code",
   "execution_count": 2,
   "id": "fea7513f",
   "metadata": {},
   "outputs": [],
   "source": [
    "SCALE_Y = 360 / 480  # = 0.75\n",
    "\n",
    "split = \"test\"\n",
    "root_dir = os.path.join(\"data/dsec_proc\",split)\n",
    "all_sequences = [item for item in os.listdir(root_dir) if os.path.isdir(os.path.join(root_dir, item))]\n",
    "\n",
    "get_tracking_metrics = False\n",
    "\n",
    "# FOR TESTING PURPOSES ONLY\n",
    "sequence_name = \"interlaken_00_b\" \n",
    "\n",
    "\n",
    "video_resolution = (640*2, 480*2) # You can change this\n",
    "video_fps = 20 # Frames per second"
   ]
  },
  {
   "cell_type": "markdown",
   "id": "ced81633",
   "metadata": {},
   "source": [
    "get bboxes"
   ]
  },
  {
   "cell_type": "code",
   "execution_count": 4,
   "id": "cd2382fc",
   "metadata": {},
   "outputs": [
    {
     "name": "stdout",
     "output_type": "stream",
     "text": [
      "Processing interlaken_00_b\n"
     ]
    },
    {
     "name": "stderr",
     "output_type": "stream",
     "text": [
      "100%|██████████| 1559/1559 [00:03<00:00, 499.96it/s] \n"
     ]
    }
   ],
   "source": [
    "print(f\"Processing {sequence_name}\")\n",
    "\n",
    "num_frames = get_number_of_rgb_frames(sequence_name)\n",
    "\n",
    "# ----------------------- LOAD GT, RGB and EVENT PRED ------------------\n",
    "# ----------------------------------- PATHS ----------------------------\n",
    "# GT\n",
    "gt_pred_path = os.path.join(\"data/dsec_proc\",split,sequence_name,\"labels_v2\",\"labels.npz\")\n",
    "# RGB Predictions\n",
    "rgb_pred_path = os.path.join(\"rgb_pred\",f\"{sequence_name}.npy\")\n",
    "# Event predictions\n",
    "event_pred_path = os.path.join(\"predictions\",f\"{sequence_name}.npz\")\n",
    "\n",
    "# --------------------------- FILES ---------------------------\n",
    "gt_file = np.load(gt_pred_path, allow_pickle = True)\n",
    "\n",
    "# Load RGB predictions\n",
    "event_pred_file = np.load(event_pred_path, allow_pickle=True)\n",
    "\n",
    "# ------------------------ BY_FRAME VAR ---------------------\n",
    "rgb_preds_by_frame = get_rgb_by_frame(rgb_pred_path)\n",
    "\n",
    "event_preds_by_frame = convert_predictions(event_pred_file,num_frames)\n",
    "\n",
    "gt_by_frame = convert_gt(gt_file,num_frames)\n",
    "\n",
    "nms_events_by_frame = {}\n",
    "for frame_id, preds in event_preds_by_frame.items():\n",
    "    nms_events_by_frame[frame_id] = apply_nms_to_frame(preds)\n",
    "\n",
    "# ----------------------- BBOXES --------------------------\n",
    "gt_bboxes = {}\n",
    "rgb_bboxes = {}\n",
    "event_bboxes = {}\n",
    "empty_bboxes = {}\n",
    "\n",
    "for idx in gt_by_frame:\n",
    "    gt_bboxes[idx] = gt_by_frame[idx]\n",
    "\n",
    "for idx in rgb_preds_by_frame:\n",
    "    rgb_bboxes[idx] = rgb_preds_by_frame[idx]\n",
    "\n",
    "for idx in nms_events_by_frame:\n",
    "    event_bboxes[idx + 1] = nms_events_by_frame[idx]\n",
    "\n",
    "\n",
    "rgb_bboxes_filtered = filter_pred_by_confidence(rgb_bboxes, {0: 0.001, 1: 0.001})\n",
    "event_bboxes_filtered = filter_pred_by_confidence(event_bboxes,{0: 0.001, 1: 0.001})\n",
    "merged_bboxes = weighted_fusion(rgb_bboxes_filtered,event_bboxes_filtered,weights=[0.5,0.5]) # <----- WEIGHTS\n",
    "\n"
   ]
  },
  {
   "cell_type": "markdown",
   "id": "836d0597",
   "metadata": {},
   "source": [
    "RGB images"
   ]
  },
  {
   "cell_type": "code",
   "execution_count": 6,
   "id": "b4281bd5",
   "metadata": {},
   "outputs": [
    {
     "name": "stderr",
     "output_type": "stream",
     "text": [
      "100%|██████████| 1616/1616 [01:44<00:00, 15.40it/s]"
     ]
    },
    {
     "name": "stdout",
     "output_type": "stream",
     "text": [
      "Warning: Index 1615 out of bounds. Using last available frame at index 1614.\n",
      "Finished processing all images.\n"
     ]
    },
    {
     "name": "stderr",
     "output_type": "stream",
     "text": [
      "\n"
     ]
    }
   ],
   "source": [
    "process_drawn_images_v2(sequence_name=sequence_name,\n",
    "                        gt_bboxes=gt_bboxes,\n",
    "                        rgb_bboxes_filtered=rgb_bboxes_filtered,\n",
    "                        event_bboxes_filtered=empty_bboxes,\n",
    "                        hybrid_bboxes=empty_bboxes,\n",
    "                        tracked_by_frame=empty_bboxes,\n",
    "                        weights=[1.0,0.0],\n",
    "                        type_data='rgb')"
   ]
  },
  {
   "cell_type": "markdown",
   "id": "db789381",
   "metadata": {},
   "source": [
    "Event images"
   ]
  },
  {
   "cell_type": "code",
   "execution_count": null,
   "id": "332db5ee",
   "metadata": {},
   "outputs": [],
   "source": [
    "process_drawn_images_v2(sequence_name=sequence_name,\n",
    "                        gt_bboxes=gt_bboxes,\n",
    "                        rgb_bboxes_filtered=empty_bboxes,\n",
    "                        event_bboxes_filtered=event_bboxes_filtered,\n",
    "                        hybrid_bboxes=empty_bboxes,\n",
    "                        tracked_by_frame=empty_bboxes,\n",
    "                        weights=[0.0,1.0],\n",
    "                        type_data='event')"
   ]
  },
  {
   "cell_type": "markdown",
   "id": "dfe9a968",
   "metadata": {},
   "source": [
    "Hybrid images"
   ]
  },
  {
   "cell_type": "code",
   "execution_count": 5,
   "id": "c4d56c2b",
   "metadata": {},
   "outputs": [
    {
     "name": "stderr",
     "output_type": "stream",
     "text": [
      "100%|██████████| 1616/1616 [02:40<00:00, 10.05it/s]"
     ]
    },
    {
     "name": "stdout",
     "output_type": "stream",
     "text": [
      "Warning: Index 1615 out of bounds. Using last available frame at index 1614.\n",
      "Finished processing all images.\n"
     ]
    },
    {
     "name": "stderr",
     "output_type": "stream",
     "text": [
      "\n"
     ]
    }
   ],
   "source": [
    "process_drawn_images_v2(sequence_name=sequence_name,\n",
    "                        gt_bboxes=gt_bboxes,\n",
    "                        rgb_bboxes_filtered=empty_bboxes,\n",
    "                        event_bboxes_filtered=empty_bboxes,\n",
    "                        hybrid_bboxes=merged_bboxes,\n",
    "                        tracked_by_frame=empty_bboxes,\n",
    "                        weights=[0.5,0.2],\n",
    "                        type_data='hybrid')"
   ]
  },
  {
   "cell_type": "markdown",
   "id": "8aaec235",
   "metadata": {},
   "source": [
    "Tracked frames"
   ]
  },
  {
   "cell_type": "code",
   "execution_count": null,
   "id": "cb1b8f91",
   "metadata": {},
   "outputs": [],
   "source": [
    "tracked_by_frame = tracking_bytetrack(merged_bboxes, sequence_name)\n",
    "process_drawn_images_v2(sequence_name=sequence_name,\n",
    "                        gt_bboxes=gt_bboxes,\n",
    "                        rgb_bboxes_filtered=empty_bboxes,\n",
    "                        event_bboxes_filtered=empty_bboxes,\n",
    "                        hybrid_bboxes=empty_bboxes,\n",
    "                        tracked_by_frame=tracked_by_frame,\n",
    "                        weights=[0.5,0.2],\n",
    "                        type_data='tracked')"
   ]
  },
  {
   "cell_type": "code",
   "execution_count": 7,
   "id": "c9c21843",
   "metadata": {},
   "outputs": [
    {
     "name": "stdout",
     "output_type": "stream",
     "text": [
      "Temporary collage frames will be saved in: temp_collage_frames_2900176\n",
      "Found 1616 sets of images to process to create collage frames.\n"
     ]
    },
    {
     "name": "stderr",
     "output_type": "stream",
     "text": [
      "Generating collage frames:   1%|▏         | 23/1616 [00:10<12:30,  2.12it/s]\n"
     ]
    },
    {
     "ename": "KeyboardInterrupt",
     "evalue": "",
     "output_type": "error",
     "traceback": [
      "\u001b[0;31m---------------------------------------------------------------------------\u001b[0m",
      "\u001b[0;31mAttributeError\u001b[0m                            Traceback (most recent call last)",
      "File \u001b[0;32m~/.conda/envs/rvt/lib/python3.9/site-packages/PIL/ImageFile.py:643\u001b[0m, in \u001b[0;36m_save\u001b[0;34m(im, fp, tile, bufsize)\u001b[0m\n\u001b[1;32m    642\u001b[0m \u001b[38;5;28;01mtry\u001b[39;00m:\n\u001b[0;32m--> 643\u001b[0m     fh \u001b[38;5;241m=\u001b[39m \u001b[43mfp\u001b[49m\u001b[38;5;241;43m.\u001b[39;49m\u001b[43mfileno\u001b[49m()\n\u001b[1;32m    644\u001b[0m     fp\u001b[38;5;241m.\u001b[39mflush()\n",
      "\u001b[0;31mAttributeError\u001b[0m: '_idat' object has no attribute 'fileno'",
      "\nDuring handling of the above exception, another exception occurred:\n",
      "\u001b[0;31mKeyboardInterrupt\u001b[0m                         Traceback (most recent call last)",
      "Cell \u001b[0;32mIn[7], line 12\u001b[0m\n\u001b[1;32m      9\u001b[0m output_video_name \u001b[38;5;241m=\u001b[39m os\u001b[38;5;241m.\u001b[39mpath\u001b[38;5;241m.\u001b[39mjoin(output_directory,\u001b[38;5;124mf\u001b[39m\u001b[38;5;124m'\u001b[39m\u001b[38;5;132;01m{\u001b[39;00msequence_name\u001b[38;5;132;01m}\u001b[39;00m\u001b[38;5;124m.mp4\u001b[39m\u001b[38;5;124m'\u001b[39m)\n\u001b[1;32m     11\u001b[0m \u001b[38;5;66;03m# --- Run the function ---\u001b[39;00m\n\u001b[0;32m---> 12\u001b[0m \u001b[43mcreate_collage_video_v2\u001b[49m\u001b[43m(\u001b[49m\n\u001b[1;32m     13\u001b[0m \u001b[43m    \u001b[49m\u001b[43mfolder_paths\u001b[49m\u001b[38;5;241;43m=\u001b[39;49m\u001b[43m[\u001b[49m\u001b[43mfolder_1\u001b[49m\u001b[43m,\u001b[49m\u001b[43m \u001b[49m\u001b[43mfolder_2\u001b[49m\u001b[43m,\u001b[49m\u001b[43m \u001b[49m\u001b[43mfolder_3\u001b[49m\u001b[43m,\u001b[49m\u001b[43m \u001b[49m\u001b[43mfolder_4\u001b[49m\u001b[43m]\u001b[49m\u001b[43m,\u001b[49m\n\u001b[1;32m     14\u001b[0m \u001b[43m    \u001b[49m\u001b[43moutput_video_path\u001b[49m\u001b[38;5;241;43m=\u001b[39;49m\u001b[43moutput_video_name\u001b[49m\u001b[43m,\u001b[49m\n\u001b[1;32m     15\u001b[0m \u001b[43m    \u001b[49m\u001b[43moutput_resolution\u001b[49m\u001b[38;5;241;43m=\u001b[39;49m\u001b[43mvideo_resolution\u001b[49m\u001b[43m,\u001b[49m\n\u001b[1;32m     16\u001b[0m \u001b[43m    \u001b[49m\u001b[43mfps\u001b[49m\u001b[38;5;241;43m=\u001b[39;49m\u001b[43mvideo_fps\u001b[49m\n\u001b[1;32m     17\u001b[0m \u001b[43m)\u001b[49m\n",
      "File \u001b[0;32m/gpfs/VICOMTECH/home/hsosapavon/repos/RVT/scripts/my_toolbox.py:1773\u001b[0m, in \u001b[0;36mcreate_collage_video_v2\u001b[0;34m(folder_paths, output_video_path, output_resolution, fps)\u001b[0m\n\u001b[1;32m   1771\u001b[0m     \u001b[38;5;66;03m# Save the collage frame to the temporary directory\u001b[39;00m\n\u001b[1;32m   1772\u001b[0m     temp_frame_path \u001b[38;5;241m=\u001b[39m os\u001b[38;5;241m.\u001b[39mpath\u001b[38;5;241m.\u001b[39mjoin(temp_frames_dir, \u001b[38;5;124mf\u001b[39m\u001b[38;5;124m\"\u001b[39m\u001b[38;5;124mframe_\u001b[39m\u001b[38;5;132;01m{\u001b[39;00mi\u001b[38;5;132;01m:\u001b[39;00m\u001b[38;5;124m06d\u001b[39m\u001b[38;5;132;01m}\u001b[39;00m\u001b[38;5;124m.png\u001b[39m\u001b[38;5;124m\"\u001b[39m) \u001b[38;5;66;03m# 6-digit padding\u001b[39;00m\n\u001b[0;32m-> 1773\u001b[0m     \u001b[43mcollage_img\u001b[49m\u001b[38;5;241;43m.\u001b[39;49m\u001b[43msave\u001b[49m\u001b[43m(\u001b[49m\u001b[43mtemp_frame_path\u001b[49m\u001b[43m)\u001b[49m\n\u001b[1;32m   1775\u001b[0m \u001b[38;5;28mprint\u001b[39m(\u001b[38;5;124mf\u001b[39m\u001b[38;5;124m\"\u001b[39m\u001b[38;5;124mFinished generating \u001b[39m\u001b[38;5;132;01m{\u001b[39;00mmin_images\u001b[38;5;132;01m}\u001b[39;00m\u001b[38;5;124m collage frames.\u001b[39m\u001b[38;5;124m\"\u001b[39m)\n\u001b[1;32m   1777\u001b[0m \u001b[38;5;66;03m# --- Use your working create_video_from_frames function ---\u001b[39;00m\n",
      "File \u001b[0;32m~/.conda/envs/rvt/lib/python3.9/site-packages/PIL/Image.py:2581\u001b[0m, in \u001b[0;36mImage.save\u001b[0;34m(self, fp, format, **params)\u001b[0m\n\u001b[1;32m   2578\u001b[0m     fp \u001b[38;5;241m=\u001b[39m cast(IO[\u001b[38;5;28mbytes\u001b[39m], fp)\n\u001b[1;32m   2580\u001b[0m \u001b[38;5;28;01mtry\u001b[39;00m:\n\u001b[0;32m-> 2581\u001b[0m     \u001b[43msave_handler\u001b[49m\u001b[43m(\u001b[49m\u001b[38;5;28;43mself\u001b[39;49m\u001b[43m,\u001b[49m\u001b[43m \u001b[49m\u001b[43mfp\u001b[49m\u001b[43m,\u001b[49m\u001b[43m \u001b[49m\u001b[43mfilename\u001b[49m\u001b[43m)\u001b[49m\n\u001b[1;32m   2582\u001b[0m \u001b[38;5;28;01mexcept\u001b[39;00m \u001b[38;5;167;01mException\u001b[39;00m:\n\u001b[1;32m   2583\u001b[0m     \u001b[38;5;28;01mif\u001b[39;00m open_fp:\n",
      "File \u001b[0;32m~/.conda/envs/rvt/lib/python3.9/site-packages/PIL/PngImagePlugin.py:1492\u001b[0m, in \u001b[0;36m_save\u001b[0;34m(im, fp, filename, chunk, save_all)\u001b[0m\n\u001b[1;32m   1488\u001b[0m     single_im \u001b[38;5;241m=\u001b[39m _write_multiple_frames(\n\u001b[1;32m   1489\u001b[0m         im, fp, chunk, mode, rawmode, default_image, append_images\n\u001b[1;32m   1490\u001b[0m     )\n\u001b[1;32m   1491\u001b[0m \u001b[38;5;28;01mif\u001b[39;00m single_im:\n\u001b[0;32m-> 1492\u001b[0m     \u001b[43mImageFile\u001b[49m\u001b[38;5;241;43m.\u001b[39;49m\u001b[43m_save\u001b[49m\u001b[43m(\u001b[49m\n\u001b[1;32m   1493\u001b[0m \u001b[43m        \u001b[49m\u001b[43msingle_im\u001b[49m\u001b[43m,\u001b[49m\n\u001b[1;32m   1494\u001b[0m \u001b[43m        \u001b[49m\u001b[43mcast\u001b[49m\u001b[43m(\u001b[49m\u001b[43mIO\u001b[49m\u001b[43m[\u001b[49m\u001b[38;5;28;43mbytes\u001b[39;49m\u001b[43m]\u001b[49m\u001b[43m,\u001b[49m\u001b[43m \u001b[49m\u001b[43m_idat\u001b[49m\u001b[43m(\u001b[49m\u001b[43mfp\u001b[49m\u001b[43m,\u001b[49m\u001b[43m \u001b[49m\u001b[43mchunk\u001b[49m\u001b[43m)\u001b[49m\u001b[43m)\u001b[49m\u001b[43m,\u001b[49m\n\u001b[1;32m   1495\u001b[0m \u001b[43m        \u001b[49m\u001b[43m[\u001b[49m\u001b[43mImageFile\u001b[49m\u001b[38;5;241;43m.\u001b[39;49m\u001b[43m_Tile\u001b[49m\u001b[43m(\u001b[49m\u001b[38;5;124;43m\"\u001b[39;49m\u001b[38;5;124;43mzip\u001b[39;49m\u001b[38;5;124;43m\"\u001b[39;49m\u001b[43m,\u001b[49m\u001b[43m \u001b[49m\u001b[43m(\u001b[49m\u001b[38;5;241;43m0\u001b[39;49m\u001b[43m,\u001b[49m\u001b[43m \u001b[49m\u001b[38;5;241;43m0\u001b[39;49m\u001b[43m)\u001b[49m\u001b[43m \u001b[49m\u001b[38;5;241;43m+\u001b[39;49m\u001b[43m \u001b[49m\u001b[43msingle_im\u001b[49m\u001b[38;5;241;43m.\u001b[39;49m\u001b[43msize\u001b[49m\u001b[43m,\u001b[49m\u001b[43m \u001b[49m\u001b[38;5;241;43m0\u001b[39;49m\u001b[43m,\u001b[49m\u001b[43m \u001b[49m\u001b[43mrawmode\u001b[49m\u001b[43m)\u001b[49m\u001b[43m]\u001b[49m\u001b[43m,\u001b[49m\n\u001b[1;32m   1496\u001b[0m \u001b[43m    \u001b[49m\u001b[43m)\u001b[49m\n\u001b[1;32m   1498\u001b[0m \u001b[38;5;28;01mif\u001b[39;00m info:\n\u001b[1;32m   1499\u001b[0m     \u001b[38;5;28;01mfor\u001b[39;00m info_chunk \u001b[38;5;129;01min\u001b[39;00m info\u001b[38;5;241m.\u001b[39mchunks:\n",
      "File \u001b[0;32m~/.conda/envs/rvt/lib/python3.9/site-packages/PIL/ImageFile.py:647\u001b[0m, in \u001b[0;36m_save\u001b[0;34m(im, fp, tile, bufsize)\u001b[0m\n\u001b[1;32m    645\u001b[0m     _encode_tile(im, fp, tile, bufsize, fh)\n\u001b[1;32m    646\u001b[0m \u001b[38;5;28;01mexcept\u001b[39;00m (\u001b[38;5;167;01mAttributeError\u001b[39;00m, io\u001b[38;5;241m.\u001b[39mUnsupportedOperation) \u001b[38;5;28;01mas\u001b[39;00m exc:\n\u001b[0;32m--> 647\u001b[0m     \u001b[43m_encode_tile\u001b[49m\u001b[43m(\u001b[49m\u001b[43mim\u001b[49m\u001b[43m,\u001b[49m\u001b[43m \u001b[49m\u001b[43mfp\u001b[49m\u001b[43m,\u001b[49m\u001b[43m \u001b[49m\u001b[43mtile\u001b[49m\u001b[43m,\u001b[49m\u001b[43m \u001b[49m\u001b[43mbufsize\u001b[49m\u001b[43m,\u001b[49m\u001b[43m \u001b[49m\u001b[38;5;28;43;01mNone\u001b[39;49;00m\u001b[43m,\u001b[49m\u001b[43m \u001b[49m\u001b[43mexc\u001b[49m\u001b[43m)\u001b[49m\n\u001b[1;32m    648\u001b[0m \u001b[38;5;28;01mif\u001b[39;00m \u001b[38;5;28mhasattr\u001b[39m(fp, \u001b[38;5;124m\"\u001b[39m\u001b[38;5;124mflush\u001b[39m\u001b[38;5;124m\"\u001b[39m):\n\u001b[1;32m    649\u001b[0m     fp\u001b[38;5;241m.\u001b[39mflush()\n",
      "File \u001b[0;32m~/.conda/envs/rvt/lib/python3.9/site-packages/PIL/ImageFile.py:673\u001b[0m, in \u001b[0;36m_encode_tile\u001b[0;34m(im, fp, tile, bufsize, fh, exc)\u001b[0m\n\u001b[1;32m    670\u001b[0m \u001b[38;5;28;01mif\u001b[39;00m exc:\n\u001b[1;32m    671\u001b[0m     \u001b[38;5;66;03m# compress to Python file-compatible object\u001b[39;00m\n\u001b[1;32m    672\u001b[0m     \u001b[38;5;28;01mwhile\u001b[39;00m \u001b[38;5;28;01mTrue\u001b[39;00m:\n\u001b[0;32m--> 673\u001b[0m         errcode, data \u001b[38;5;241m=\u001b[39m \u001b[43mencoder\u001b[49m\u001b[38;5;241;43m.\u001b[39;49m\u001b[43mencode\u001b[49m\u001b[43m(\u001b[49m\u001b[43mbufsize\u001b[49m\u001b[43m)\u001b[49m[\u001b[38;5;241m1\u001b[39m:]\n\u001b[1;32m    674\u001b[0m         fp\u001b[38;5;241m.\u001b[39mwrite(data)\n\u001b[1;32m    675\u001b[0m         \u001b[38;5;28;01mif\u001b[39;00m errcode:\n",
      "\u001b[0;31mKeyboardInterrupt\u001b[0m: "
     ]
    }
   ],
   "source": [
    "folder_1 = os.path.join('visuals/drawn',sequence_name,'rgb')\n",
    "folder_2 = os.path.join('visuals/drawn',sequence_name,'event')\n",
    "folder_3 = os.path.join('visuals/drawn',sequence_name,'hybrid')\n",
    "folder_4 = os.path.join('visuals/drawn',sequence_name,'tracked')\n",
    "\n",
    "output_directory = 'visuals/drawn/videos'\n",
    "os.makedirs(output_directory, exist_ok=True)\n",
    "\n",
    "output_video_name = os.path.join(output_directory,f'{sequence_name}.mp4')\n",
    "\n",
    "# --- Run the function ---\n",
    "create_collage_video_v2(\n",
    "    folder_paths=[folder_1, folder_2, folder_3, folder_4],\n",
    "    output_video_path=output_video_name,\n",
    "    output_resolution=video_resolution,\n",
    "    fps=video_fps\n",
    ")"
   ]
  }
 ],
 "metadata": {
  "kernelspec": {
   "display_name": "rvt",
   "language": "python",
   "name": "python3"
  },
  "language_info": {
   "codemirror_mode": {
    "name": "ipython",
    "version": 3
   },
   "file_extension": ".py",
   "mimetype": "text/x-python",
   "name": "python",
   "nbconvert_exporter": "python",
   "pygments_lexer": "ipython3",
   "version": "3.9.15"
  }
 },
 "nbformat": 4,
 "nbformat_minor": 5
}
